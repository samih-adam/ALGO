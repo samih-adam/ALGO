{
 "cells": [
  {
   "cell_type": "code",
   "execution_count": 14,
   "metadata": {},
   "outputs": [],
   "source": [
    "import pandas_datareader as web\n",
    "import os\n",
    "import investpy\n",
    "# Retrieve all the available stocks as a Python list\n",
    "stocks = investpy.get_stocks_list()\n",
    "\n",
    "# Retrieve the recent historical data (past month) of a stock as a pandas.DataFrame on ascending date order\n",
    "df = investpy.get_stock_recent_data(stock='bbva', country='spain', as_json=False, order='ascending')\n",
    "\n",
    "# Retrieve the company profile of the introduced stock on english\n",
    "profile = investpy.get_stock_company_profile(stock='bbva', country='spain', language='english')"
   ]
  },
  {
   "cell_type": "code",
   "execution_count": null,
   "metadata": {},
   "outputs": [],
   "source": []
  },
  {
   "cell_type": "code",
   "execution_count": null,
   "metadata": {},
   "outputs": [],
   "source": []
  }
 ],
 "metadata": {
  "kernelspec": {
   "display_name": "Python 3",
   "language": "python",
   "name": "python3"
  },
  "language_info": {
   "codemirror_mode": {
    "name": "ipython",
    "version": 3
   },
   "file_extension": ".py",
   "mimetype": "text/x-python",
   "name": "python",
   "nbconvert_exporter": "python",
   "pygments_lexer": "ipython3",
   "version": "3.7.6"
  }
 },
 "nbformat": 4,
 "nbformat_minor": 4
}
