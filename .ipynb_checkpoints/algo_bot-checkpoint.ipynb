{
 "cells": [
  {
   "cell_type": "code",
   "execution_count": 1,
   "metadata": {},
   "outputs": [],
   "source": [
    "# Description: This program uses teh dual moving average crossover to determine when to buy and sell stock\n",
    "# Import the library \n",
    "\n",
    "import pandas as pd\n",
    "import numpy as np\n",
    "from datetime import datetime\n",
    "import matplotlib.pyplot as plt\n",
    "plt.style.use('fivethirtyeight')"
   ]
  },
  {
   "cell_type": "code",
   "execution_count": 8,
   "metadata": {},
   "outputs": [
    {
     "ename": "NameError",
     "evalue": "name 'anvil' is not defined",
     "output_type": "error",
     "traceback": [
      "\u001b[0;31m---------------------------------------------------------------------------\u001b[0m",
      "\u001b[0;31mNameError\u001b[0m                                 Traceback (most recent call last)",
      "\u001b[0;32m<ipython-input-8-611b964c3254>\u001b[0m in \u001b[0;36m<module>\u001b[0;34m\u001b[0m\n\u001b[1;32m     14\u001b[0m \u001b[0;34m\u001b[0m\u001b[0m\n\u001b[1;32m     15\u001b[0m \u001b[0;31m# Make the request\u001b[0m\u001b[0;34m\u001b[0m\u001b[0;34m\u001b[0m\u001b[0;34m\u001b[0m\u001b[0m\n\u001b[0;32m---> 16\u001b[0;31m \u001b[0mresponse\u001b[0m \u001b[0;34m=\u001b[0m \u001b[0manvil\u001b[0m\u001b[0;34m.\u001b[0m\u001b[0mhttp\u001b[0m\u001b[0;34m.\u001b[0m\u001b[0mrequest\u001b[0m\u001b[0;34m(\u001b[0m\u001b[0murl\u001b[0m\u001b[0;34m,\u001b[0m \u001b[0mjson\u001b[0m\u001b[0;34m=\u001b[0m\u001b[0;32mTrue\u001b[0m\u001b[0;34m)\u001b[0m\u001b[0;34m\u001b[0m\u001b[0;34m\u001b[0m\u001b[0m\n\u001b[0m\u001b[1;32m     17\u001b[0m \u001b[0;34m\u001b[0m\u001b[0m\n\u001b[1;32m     18\u001b[0m \u001b[0;34m\u001b[0m\u001b[0m\n",
      "\u001b[0;31mNameError\u001b[0m: name 'anvil' is not defined"
     ]
    }
   ],
   "source": [
    "# load the data\n",
    "import quandl\n",
    "mydata = quandl.get(\"WIKI/AAPL\")\n",
    "mydata2 = quandl.get(\"EIA/PET_RWTC_D\")\n",
    "def get_gold_chart():\n",
    "  # Construct date strings for the API request\n",
    "  now = datetime.now()\n",
    "  today = now.strftime('%Y-%m-%d')\n",
    "  a_year_ago = (now - timedelta(days=365)).strftime('%Y-%m-%d')\n",
    " # Our Quandl API key is stored in an Anvil Secret\n",
    "  api_key = anvil.secrets.get_secret(\"quandl_key\")\n",
    "  # Construct the URL to request the data from\n",
    "  url = f'https://www.quandl.com/api/v3/datasets/LBMA/GOLD/data.json?api_key={api_key}&start_date={a_year_ago}&end_date={today}'\n",
    "\n",
    "# Make the request\n",
    "response = anvil.http.request(url, json=True)\n",
    "\n",
    "\n"
   ]
  },
  {
   "cell_type": "code",
   "execution_count": 12,
   "metadata": {},
   "outputs": [
    {
     "name": "stdout",
     "output_type": "stream",
     "text": [
      "              Open    High     Low    Close      Volume  Ex-Dividend  \\\n",
      "Date                                                                   \n",
      "1980-12-12   28.75   28.87   28.75   28.750   2093900.0          0.0   \n",
      "1980-12-15   27.38   27.38   27.25   27.250    785200.0          0.0   \n",
      "1980-12-16   25.37   25.37   25.25   25.250    472000.0          0.0   \n",
      "1980-12-17   25.87   26.00   25.87   25.870    385900.0          0.0   \n",
      "1980-12-18   26.63   26.75   26.63   26.630    327900.0          0.0   \n",
      "...            ...     ...     ...      ...         ...          ...   \n",
      "2018-03-21  175.04  175.09  171.26  171.270  35247358.0          0.0   \n",
      "2018-03-22  170.00  172.68  168.60  168.845  41051076.0          0.0   \n",
      "2018-03-23  168.39  169.92  164.94  164.940  40248954.0          0.0   \n",
      "2018-03-26  168.07  173.10  166.44  172.770  36272617.0          0.0   \n",
      "2018-03-27  173.68  175.15  166.92  168.340  38962839.0          0.0   \n",
      "\n",
      "            Split Ratio   Adj. Open   Adj. High    Adj. Low  Adj. Close  \\\n",
      "Date                                                                      \n",
      "1980-12-12          1.0    0.422706    0.424470    0.422706    0.422706   \n",
      "1980-12-15          1.0    0.402563    0.402563    0.400652    0.400652   \n",
      "1980-12-16          1.0    0.373010    0.373010    0.371246    0.371246   \n",
      "1980-12-17          1.0    0.380362    0.382273    0.380362    0.380362   \n",
      "1980-12-18          1.0    0.391536    0.393300    0.391536    0.391536   \n",
      "...                 ...         ...         ...         ...         ...   \n",
      "2018-03-21          1.0  175.040000  175.090000  171.260000  171.270000   \n",
      "2018-03-22          1.0  170.000000  172.680000  168.600000  168.845000   \n",
      "2018-03-23          1.0  168.390000  169.920000  164.940000  164.940000   \n",
      "2018-03-26          1.0  168.070000  173.100000  166.440000  172.770000   \n",
      "2018-03-27          1.0  173.680000  175.150000  166.920000  168.340000   \n",
      "\n",
      "            Adj. Volume  \n",
      "Date                     \n",
      "1980-12-12  117258400.0  \n",
      "1980-12-15   43971200.0  \n",
      "1980-12-16   26432000.0  \n",
      "1980-12-17   21610400.0  \n",
      "1980-12-18   18362400.0  \n",
      "...                 ...  \n",
      "2018-03-21   35247358.0  \n",
      "2018-03-22   41051076.0  \n",
      "2018-03-23   40248954.0  \n",
      "2018-03-26   36272617.0  \n",
      "2018-03-27   38962839.0  \n",
      "\n",
      "[9400 rows x 12 columns]\n"
     ]
    },
    {
     "ename": "SyntaxError",
     "evalue": "'return' outside function (<ipython-input-12-ffc6b27c16a7>, line 7)",
     "output_type": "error",
     "traceback": [
      "\u001b[0;36m  File \u001b[0;32m\"<ipython-input-12-ffc6b27c16a7>\"\u001b[0;36m, line \u001b[0;32m7\u001b[0m\n\u001b[0;31m    return [{'date': x[0], 'afternoon_price': x[5]} for x in response['dataset_data']['data']]\u001b[0m\n\u001b[0m                                                                                              ^\u001b[0m\n\u001b[0;31mSyntaxError\u001b[0m\u001b[0;31m:\u001b[0m 'return' outside function\n"
     ]
    }
   ],
   "source": [
    "# store the data\n",
    "AAPL = mydata\n",
    "\n",
    "#show the data \n",
    "print (AAPL)\n",
    "# Get the afternoon price in GBP out of the data structure\n",
    "return [{'date': x[0], 'afternoon_price': x[5]} for x in response['dataset_data']['data']]\n",
    "\n"
   ]
  },
  {
   "cell_type": "code",
   "execution_count": 17,
   "metadata": {},
   "outputs": [
    {
     "ename": "NameError",
     "evalue": "name 'anvil' is not defined",
     "output_type": "error",
     "traceback": [
      "\u001b[0;31m---------------------------------------------------------------------------\u001b[0m",
      "\u001b[0;31mNameError\u001b[0m                                 Traceback (most recent call last)",
      "\u001b[0;32m<ipython-input-17-ea29cdc9d674>\u001b[0m in \u001b[0;36m<module>\u001b[0;34m\u001b[0m\n\u001b[0;32m----> 1\u001b[0;31m \u001b[0mself\u001b[0m\u001b[0;34m.\u001b[0m\u001b[0mgold_chart\u001b[0m \u001b[0;34m=\u001b[0m \u001b[0manvil\u001b[0m\u001b[0;34m.\u001b[0m\u001b[0mserver\u001b[0m\u001b[0;34m.\u001b[0m\u001b[0mcall\u001b[0m\u001b[0;34m(\u001b[0m\u001b[0;34m'get_gold_chart'\u001b[0m\u001b[0;34m)\u001b[0m\u001b[0;34m\u001b[0m\u001b[0;34m\u001b[0m\u001b[0m\n\u001b[0m\u001b[1;32m      2\u001b[0m self.plot_1.data = go.Scatter(\n\u001b[1;32m      3\u001b[0m     \u001b[0mx\u001b[0m\u001b[0;34m=\u001b[0m\u001b[0;34m[\u001b[0m\u001b[0mp\u001b[0m\u001b[0;34m[\u001b[0m\u001b[0;34m'date'\u001b[0m\u001b[0;34m]\u001b[0m \u001b[0;32mfor\u001b[0m \u001b[0mp\u001b[0m \u001b[0;32min\u001b[0m \u001b[0mself\u001b[0m\u001b[0;34m.\u001b[0m\u001b[0mgold_chart\u001b[0m\u001b[0;34m]\u001b[0m\u001b[0;34m,\u001b[0m\u001b[0;34m\u001b[0m\u001b[0;34m\u001b[0m\u001b[0m\n\u001b[1;32m      4\u001b[0m     \u001b[0my\u001b[0m\u001b[0;34m=\u001b[0m\u001b[0;34m[\u001b[0m\u001b[0mp\u001b[0m\u001b[0;34m[\u001b[0m\u001b[0;34m'afternoon_price'\u001b[0m\u001b[0;34m]\u001b[0m \u001b[0;32mfor\u001b[0m \u001b[0mp\u001b[0m \u001b[0;32min\u001b[0m \u001b[0mself\u001b[0m\u001b[0;34m.\u001b[0m\u001b[0mgold_chart\u001b[0m\u001b[0;34m]\u001b[0m\u001b[0;34m,\u001b[0m\u001b[0;34m\u001b[0m\u001b[0;34m\u001b[0m\u001b[0m\n\u001b[1;32m      5\u001b[0m     )\n",
      "\u001b[0;31mNameError\u001b[0m: name 'anvil' is not defined"
     ]
    }
   ],
   "source": [
    "self.gold_chart = anvil.server.call('get_gold_chart')\n",
    "self.plot_1.data = go.Scatter(\n",
    "    x=[p['date'] for p in self.gold_chart],\n",
    "    y=[p['afternoon_price'] for p in self.gold_chart],\n",
    "    )"
   ]
  },
  {
   "cell_type": "code",
   "execution_count": null,
   "metadata": {},
   "outputs": [],
   "source": []
  }
 ],
 "metadata": {
  "kernelspec": {
   "display_name": "Python 3",
   "language": "python",
   "name": "python3"
  },
  "language_info": {
   "codemirror_mode": {
    "name": "ipython",
    "version": 3
   },
   "file_extension": ".py",
   "mimetype": "text/x-python",
   "name": "python",
   "nbconvert_exporter": "python",
   "pygments_lexer": "ipython3",
   "version": "3.7.6"
  }
 },
 "nbformat": 4,
 "nbformat_minor": 4
}
